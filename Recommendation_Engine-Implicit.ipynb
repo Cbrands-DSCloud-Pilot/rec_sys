{
 "cells": [
  {
   "cell_type": "code",
   "execution_count": 1,
   "metadata": {
    "collapsed": true
   },
   "outputs": [],
   "source": [
    "import pandas as pd\n",
    "import scipy.sparse as sparse\n",
    "import numpy as np\n",
    "from scipy.sparse.linalg import spsolve\n",
    "import random\n",
    "import time\n",
    "import itertools\n",
    "from scipy.stats import mstats"
   ]
  },
  {
   "cell_type": "code",
   "execution_count": 2,
   "metadata": {
    "collapsed": true
   },
   "outputs": [],
   "source": [
    "%%capture\n",
    "!pip install implicit"
   ]
  },
  {
   "cell_type": "code",
   "execution_count": 3,
   "metadata": {
    "collapsed": true
   },
   "outputs": [],
   "source": [
    "%%capture\n",
    "!pip install boto3"
   ]
  },
  {
   "cell_type": "code",
   "execution_count": 4,
   "metadata": {
    "collapsed": true
   },
   "outputs": [],
   "source": [
    "from implicit.als import AlternatingLeastSquares"
   ]
  },
  {
   "cell_type": "code",
   "execution_count": 5,
   "metadata": {
    "collapsed": true
   },
   "outputs": [],
   "source": [
    "import implicit2\n",
    "from ratings import ratings\n",
    "from S3_helper import S3_helper"
   ]
  },
  {
   "cell_type": "markdown",
   "metadata": {},
   "source": [
    "# Run Unit Tests"
   ]
  },
  {
   "cell_type": "code",
   "execution_count": 6,
   "metadata": {},
   "outputs": [
    {
     "name": "stdout",
     "output_type": "stream",
     "text": [
      "test_rmse (test_implicit2.TestImplicit2) ... ok\r\n",
      "test_train_test (test_implicit2.TestImplicit2) ... ok\r\n",
      "\r\n",
      "----------------------------------------------------------------------\r\n",
      "Ran 2 tests in 0.002s\r\n",
      "\r\n",
      "OK\r\n"
     ]
    }
   ],
   "source": [
    "!python -m unittest -v test_implicit2"
   ]
  },
  {
   "cell_type": "code",
   "execution_count": 7,
   "metadata": {},
   "outputs": [
    {
     "name": "stdout",
     "output_type": "stream",
     "text": [
      "test_binary (test_ratings.TestRating) ... ok\r\n",
      "test_lte (test_ratings.TestRating) ... ok\r\n",
      "test_natLog (test_ratings.TestRating) ... ok\r\n",
      "test_percStore (test_ratings.TestRating) ... ok\r\n",
      "test_sparseMatrix (test_ratings.TestRating) ... ok\r\n",
      "test_winsorize (test_ratings.TestRating) ... ok\r\n",
      "\r\n",
      "----------------------------------------------------------------------\r\n",
      "Ran 6 tests in 0.044s\r\n",
      "\r\n",
      "OK\r\n"
     ]
    }
   ],
   "source": [
    "!python -m unittest -v test_ratings"
   ]
  },
  {
   "cell_type": "markdown",
   "metadata": {},
   "source": [
    "# Load Data"
   ]
  },
  {
   "cell_type": "code",
   "execution_count": 8,
   "metadata": {},
   "outputs": [],
   "source": [
    "import os\n",
    "access = os.environ['S3_ACCESS_JON']\n",
    "secret = os.environ['S3_SECRET_JON']\n",
    "bucket = 's3-ds-work-test'"
   ]
  },
  {
   "cell_type": "code",
   "execution_count": 9,
   "metadata": {
    "collapsed": true
   },
   "outputs": [],
   "source": [
    "cb_s3 = S3_helper(access,secret,bucket)"
   ]
  },
  {
   "cell_type": "code",
   "execution_count": 10,
   "metadata": {},
   "outputs": [
    {
     "name": "stdout",
     "output_type": "stream",
     "text": [
      "Grabbed Rec_Eng/Product_info.csv from S3. Local file Product_info.csv is now available.\n"
     ]
    }
   ],
   "source": [
    "key = 'Rec_Eng/Product_info.csv'\n",
    "path = 'Product_info.csv'\n",
    "cb_s3.pull_file_from_s3(key, path)\n",
    "prod_info = pd.read_csv(path)\n",
    "prod_info = prod_info[prod_info['STOCK_TYPE_CD'].isin(['S','D'])]\n",
    "master_sku = list(prod_info.MASTER_SKU_CD.unique())\n",
    "master_sku = [str(sku) for sku in master_sku]\n",
    "master_pkg = list(prod_info.MASTER_PKG_CD.unique())"
   ]
  },
  {
   "cell_type": "code",
   "execution_count": 11,
   "metadata": {},
   "outputs": [
    {
     "data": {
      "text/html": [
       "<div>\n",
       "<style>\n",
       "    .dataframe thead tr:only-child th {\n",
       "        text-align: right;\n",
       "    }\n",
       "\n",
       "    .dataframe thead th {\n",
       "        text-align: left;\n",
       "    }\n",
       "\n",
       "    .dataframe tbody tr th {\n",
       "        vertical-align: top;\n",
       "    }\n",
       "</style>\n",
       "<table border=\"1\" class=\"dataframe\">\n",
       "  <thead>\n",
       "    <tr style=\"text-align: right;\">\n",
       "      <th></th>\n",
       "      <th>ITEM_ID</th>\n",
       "      <th>ITEM_01_CD</th>\n",
       "      <th>ITEM_01_DSC</th>\n",
       "      <th>ITEM_02_CD</th>\n",
       "      <th>ITEM_02_DSC</th>\n",
       "      <th>ITEM_03_CD</th>\n",
       "      <th>ITEM_03_DSC</th>\n",
       "      <th>ITEM_TYPE_CD</th>\n",
       "      <th>ITEM_TYPE_DSC</th>\n",
       "      <th>BRAND_FAMILY_CD</th>\n",
       "      <th>...</th>\n",
       "      <th>STOCK_TYPE_CD</th>\n",
       "      <th>STOCK_TYPE_DSC</th>\n",
       "      <th>CONTAINER_ID_CD</th>\n",
       "      <th>CONTAINER_ID_DSC</th>\n",
       "      <th>COUNTRY_CD</th>\n",
       "      <th>COUNTRY_DSC</th>\n",
       "      <th>COMPONENT_SUB_TYPE_CD</th>\n",
       "      <th>COMPONENT_SUB_TYPE_DSC</th>\n",
       "      <th>UOM_PRIM_CD</th>\n",
       "      <th>UOM_PRIM_DSC</th>\n",
       "    </tr>\n",
       "  </thead>\n",
       "  <tbody>\n",
       "    <tr>\n",
       "      <th>0</th>\n",
       "      <td>1454</td>\n",
       "      <td>10158</td>\n",
       "      <td>CORONITA 7OZ 6PK DEP BT</td>\n",
       "      <td>10158</td>\n",
       "      <td>DEP BT</td>\n",
       "      <td>10158</td>\n",
       "      <td>CORONITA 7OZ 6PK BT DEP</td>\n",
       "      <td>102</td>\n",
       "      <td>FINISHED GOODS - CASE</td>\n",
       "      <td>736</td>\n",
       "      <td>...</td>\n",
       "      <td>S</td>\n",
       "      <td>STOCK END-ITEM</td>\n",
       "      <td>100</td>\n",
       "      <td>BOTTLE</td>\n",
       "      <td>225</td>\n",
       "      <td>MEXICO</td>\n",
       "      <td>28</td>\n",
       "      <td>OTHER GLASS</td>\n",
       "      <td>CA</td>\n",
       "      <td>CASE</td>\n",
       "    </tr>\n",
       "    <tr>\n",
       "      <th>1</th>\n",
       "      <td>1457</td>\n",
       "      <td>10159</td>\n",
       "      <td>CORONA LT 6PK DEP BT</td>\n",
       "      <td>10159</td>\n",
       "      <td>DEP BT</td>\n",
       "      <td>10159</td>\n",
       "      <td>CORONA LIGHT 6PK BT DEP</td>\n",
       "      <td>102</td>\n",
       "      <td>FINISHED GOODS - CASE</td>\n",
       "      <td>736</td>\n",
       "      <td>...</td>\n",
       "      <td>S</td>\n",
       "      <td>STOCK END-ITEM</td>\n",
       "      <td>100</td>\n",
       "      <td>BOTTLE</td>\n",
       "      <td>225</td>\n",
       "      <td>MEXICO</td>\n",
       "      <td>28</td>\n",
       "      <td>OTHER GLASS</td>\n",
       "      <td>CA</td>\n",
       "      <td>CASE</td>\n",
       "    </tr>\n",
       "    <tr>\n",
       "      <th>2</th>\n",
       "      <td>1458</td>\n",
       "      <td>10160</td>\n",
       "      <td>CORONA LT 12PK DEP BT</td>\n",
       "      <td>10160</td>\n",
       "      <td>DEP BT</td>\n",
       "      <td>10160</td>\n",
       "      <td>CORONA LIGHT 12PK BT DEP</td>\n",
       "      <td>102</td>\n",
       "      <td>FINISHED GOODS - CASE</td>\n",
       "      <td>736</td>\n",
       "      <td>...</td>\n",
       "      <td>S</td>\n",
       "      <td>STOCK END-ITEM</td>\n",
       "      <td>100</td>\n",
       "      <td>BOTTLE</td>\n",
       "      <td>225</td>\n",
       "      <td>MEXICO</td>\n",
       "      <td>28</td>\n",
       "      <td>OTHER GLASS</td>\n",
       "      <td>CA</td>\n",
       "      <td>CASE</td>\n",
       "    </tr>\n",
       "    <tr>\n",
       "      <th>3</th>\n",
       "      <td>1459</td>\n",
       "      <td>10161</td>\n",
       "      <td>MODELO NEGRA 6PK DEP BT</td>\n",
       "      <td>10161</td>\n",
       "      <td>DEP BT</td>\n",
       "      <td>10161</td>\n",
       "      <td>NEGRA MODELO BEER 6PK BT DEP</td>\n",
       "      <td>102</td>\n",
       "      <td>FINISHED GOODS - CASE</td>\n",
       "      <td>737</td>\n",
       "      <td>...</td>\n",
       "      <td>S</td>\n",
       "      <td>STOCK END-ITEM</td>\n",
       "      <td>100</td>\n",
       "      <td>BOTTLE</td>\n",
       "      <td>225</td>\n",
       "      <td>MEXICO</td>\n",
       "      <td>28</td>\n",
       "      <td>OTHER GLASS</td>\n",
       "      <td>CA</td>\n",
       "      <td>CASE</td>\n",
       "    </tr>\n",
       "    <tr>\n",
       "      <th>4</th>\n",
       "      <td>1463</td>\n",
       "      <td>10163</td>\n",
       "      <td>MODELO ESP 6PK DEP CAN</td>\n",
       "      <td>10163</td>\n",
       "      <td>DEP CAN</td>\n",
       "      <td>10163</td>\n",
       "      <td>MODELO ESPECIAL 6PK CAN DEP</td>\n",
       "      <td>102</td>\n",
       "      <td>FINISHED GOODS - CASE</td>\n",
       "      <td>737</td>\n",
       "      <td>...</td>\n",
       "      <td>S</td>\n",
       "      <td>STOCK END-ITEM</td>\n",
       "      <td>101</td>\n",
       "      <td>CAN(S)</td>\n",
       "      <td>225</td>\n",
       "      <td>MEXICO</td>\n",
       "      <td>259</td>\n",
       "      <td>CAN</td>\n",
       "      <td>CA</td>\n",
       "      <td>CASE</td>\n",
       "    </tr>\n",
       "  </tbody>\n",
       "</table>\n",
       "<p>5 rows × 57 columns</p>\n",
       "</div>"
      ],
      "text/plain": [
       "   ITEM_ID  ITEM_01_CD              ITEM_01_DSC  ITEM_02_CD ITEM_02_DSC  \\\n",
       "0     1454       10158  CORONITA 7OZ 6PK DEP BT       10158      DEP BT   \n",
       "1     1457       10159     CORONA LT 6PK DEP BT       10159      DEP BT   \n",
       "2     1458       10160    CORONA LT 12PK DEP BT       10160      DEP BT   \n",
       "3     1459       10161  MODELO NEGRA 6PK DEP BT       10161      DEP BT   \n",
       "4     1463       10163   MODELO ESP 6PK DEP CAN       10163     DEP CAN   \n",
       "\n",
       "   ITEM_03_CD                   ITEM_03_DSC  ITEM_TYPE_CD  \\\n",
       "0       10158       CORONITA 7OZ 6PK BT DEP           102   \n",
       "1       10159       CORONA LIGHT 6PK BT DEP           102   \n",
       "2       10160      CORONA LIGHT 12PK BT DEP           102   \n",
       "3       10161  NEGRA MODELO BEER 6PK BT DEP           102   \n",
       "4       10163   MODELO ESPECIAL 6PK CAN DEP           102   \n",
       "\n",
       "           ITEM_TYPE_DSC  BRAND_FAMILY_CD      ...      STOCK_TYPE_CD  \\\n",
       "0  FINISHED GOODS - CASE              736      ...                  S   \n",
       "1  FINISHED GOODS - CASE              736      ...                  S   \n",
       "2  FINISHED GOODS - CASE              736      ...                  S   \n",
       "3  FINISHED GOODS - CASE              737      ...                  S   \n",
       "4  FINISHED GOODS - CASE              737      ...                  S   \n",
       "\n",
       "   STOCK_TYPE_DSC CONTAINER_ID_CD  CONTAINER_ID_DSC COUNTRY_CD  COUNTRY_DSC  \\\n",
       "0  STOCK END-ITEM             100            BOTTLE        225       MEXICO   \n",
       "1  STOCK END-ITEM             100            BOTTLE        225       MEXICO   \n",
       "2  STOCK END-ITEM             100            BOTTLE        225       MEXICO   \n",
       "3  STOCK END-ITEM             100            BOTTLE        225       MEXICO   \n",
       "4  STOCK END-ITEM             101            CAN(S)        225       MEXICO   \n",
       "\n",
       "  COMPONENT_SUB_TYPE_CD  COMPONENT_SUB_TYPE_DSC UOM_PRIM_CD  UOM_PRIM_DSC  \n",
       "0                    28             OTHER GLASS          CA          CASE  \n",
       "1                    28             OTHER GLASS          CA          CASE  \n",
       "2                    28             OTHER GLASS          CA          CASE  \n",
       "3                    28             OTHER GLASS          CA          CASE  \n",
       "4                   259                     CAN          CA          CASE  \n",
       "\n",
       "[5 rows x 57 columns]"
      ]
     },
     "execution_count": 11,
     "metadata": {},
     "output_type": "execute_result"
    }
   ],
   "source": [
    "prod_info.head()"
   ]
  },
  {
   "cell_type": "code",
   "execution_count": 12,
   "metadata": {},
   "outputs": [
    {
     "name": "stdout",
     "output_type": "stream",
     "text": [
      "Grabbed Rec_Eng/IL_OFF.csv from S3. Local file IL_OFF.csv is now available.\n"
     ]
    }
   ],
   "source": [
    "key = 'Rec_Eng/IL_OFF.csv'\n",
    "path = 'IL_OFF.csv'\n",
    "cb_s3.pull_file_from_s3(key, path)\n",
    "data = pd.read_csv(path)"
   ]
  },
  {
   "cell_type": "code",
   "execution_count": 13,
   "metadata": {},
   "outputs": [
    {
     "data": {
      "text/html": [
       "<div>\n",
       "<style>\n",
       "    .dataframe thead tr:only-child th {\n",
       "        text-align: right;\n",
       "    }\n",
       "\n",
       "    .dataframe thead th {\n",
       "        text-align: left;\n",
       "    }\n",
       "\n",
       "    .dataframe tbody tr th {\n",
       "        vertical-align: top;\n",
       "    }\n",
       "</style>\n",
       "<table border=\"1\" class=\"dataframe\">\n",
       "  <thead>\n",
       "    <tr style=\"text-align: right;\">\n",
       "      <th></th>\n",
       "      <th>MASTER_PKG_SKU_CD</th>\n",
       "      <th>TDLINX_STORE_CD</th>\n",
       "      <th>L90_TY_QTY</th>\n",
       "    </tr>\n",
       "  </thead>\n",
       "  <tbody>\n",
       "    <tr>\n",
       "      <th>0</th>\n",
       "      <td>80014014</td>\n",
       "      <td>3941559</td>\n",
       "      <td>0.0000</td>\n",
       "    </tr>\n",
       "    <tr>\n",
       "      <th>1</th>\n",
       "      <td>80013520</td>\n",
       "      <td>0326339</td>\n",
       "      <td>19.5000</td>\n",
       "    </tr>\n",
       "    <tr>\n",
       "      <th>2</th>\n",
       "      <td>80014007</td>\n",
       "      <td>1402671</td>\n",
       "      <td>1.3333</td>\n",
       "    </tr>\n",
       "    <tr>\n",
       "      <th>3</th>\n",
       "      <td>80013970</td>\n",
       "      <td>0175965</td>\n",
       "      <td>0.0000</td>\n",
       "    </tr>\n",
       "    <tr>\n",
       "      <th>4</th>\n",
       "      <td>80013460</td>\n",
       "      <td>0770764</td>\n",
       "      <td>0.0000</td>\n",
       "    </tr>\n",
       "  </tbody>\n",
       "</table>\n",
       "</div>"
      ],
      "text/plain": [
       "   MASTER_PKG_SKU_CD TDLINX_STORE_CD  L90_TY_QTY\n",
       "0           80014014         3941559      0.0000\n",
       "1           80013520         0326339     19.5000\n",
       "2           80014007         1402671      1.3333\n",
       "3           80013970         0175965      0.0000\n",
       "4           80013460         0770764      0.0000"
      ]
     },
     "execution_count": 13,
     "metadata": {},
     "output_type": "execute_result"
    }
   ],
   "source": [
    "data.head()"
   ]
  },
  {
   "cell_type": "markdown",
   "metadata": {},
   "source": [
    "# Data Preprocessing"
   ]
  },
  {
   "cell_type": "code",
   "execution_count": 14,
   "metadata": {},
   "outputs": [
    {
     "data": {
      "text/plain": [
       "count    617052.000000\n",
       "mean          2.915046\n",
       "std          26.884196\n",
       "min         -10.000000\n",
       "25%           0.000000\n",
       "50%           0.000000\n",
       "75%           0.000000\n",
       "max        7254.000000\n",
       "Name: L90_TY_QTY, dtype: float64"
      ]
     },
     "execution_count": 14,
     "metadata": {},
     "output_type": "execute_result"
    }
   ],
   "source": [
    "data['L90_TY_QTY'].describe()"
   ]
  },
  {
   "cell_type": "code",
   "execution_count": 15,
   "metadata": {},
   "outputs": [
    {
     "data": {
      "text/plain": [
       "count    78270.000000\n",
       "mean        22.987211\n",
       "std         72.364276\n",
       "min          0.500000\n",
       "25%          3.000000\n",
       "50%          7.000000\n",
       "75%         19.000000\n",
       "max       7254.000000\n",
       "Name: L90_TY_QTY, dtype: float64"
      ]
     },
     "execution_count": 15,
     "metadata": {},
     "output_type": "execute_result"
    }
   ],
   "source": [
    "data[data['L90_TY_QTY']>0]['L90_TY_QTY'].describe()"
   ]
  },
  {
   "cell_type": "code",
   "execution_count": 16,
   "metadata": {
    "collapsed": true
   },
   "outputs": [],
   "source": [
    "il_off_data = ratings(data,quantCol='L90_TY_QTY')"
   ]
  },
  {
   "cell_type": "code",
   "execution_count": 17,
   "metadata": {},
   "outputs": [
    {
     "data": {
      "text/plain": [
       "(617052, 3)"
      ]
     },
     "execution_count": 17,
     "metadata": {},
     "output_type": "execute_result"
    }
   ],
   "source": [
    "data.shape"
   ]
  },
  {
   "cell_type": "code",
   "execution_count": 18,
   "metadata": {},
   "outputs": [
    {
     "data": {
      "text/plain": [
       "array([  0.,   0.,  18., ...,   0.,   0.,   0.], dtype=float32)"
      ]
     },
     "execution_count": 18,
     "metadata": {},
     "output_type": "execute_result"
    }
   ],
   "source": [
    "il_off_data.lte_quantTrans()\n",
    "il_off_data.quantity"
   ]
  },
  {
   "cell_type": "code",
   "execution_count": 19,
   "metadata": {},
   "outputs": [
    {
     "data": {
      "text/plain": [
       "array([  0.,   0.,  18., ...,   0.,   0.,   0.], dtype=float32)"
      ]
     },
     "execution_count": 19,
     "metadata": {},
     "output_type": "execute_result"
    }
   ],
   "source": [
    "il_off_data.winsorize_quantTrans()\n",
    "il_off_data.quantity"
   ]
  },
  {
   "cell_type": "code",
   "execution_count": 20,
   "metadata": {},
   "outputs": [
    {
     "data": {
      "text/plain": [
       "array([ 0.        ,  0.        ,  2.94443893, ...,  0.        ,\n",
       "        0.        ,  0.        ], dtype=float32)"
      ]
     },
     "execution_count": 20,
     "metadata": {},
     "output_type": "execute_result"
    }
   ],
   "source": [
    "il_off_data.natLog_rateTrans()\n",
    "il_off_data.rating"
   ]
  },
  {
   "cell_type": "code",
   "execution_count": 21,
   "metadata": {},
   "outputs": [
    {
     "data": {
      "text/plain": [
       "{'Data Column': 'L90_TY_QTY',\n",
       " 'Transformation': ['Values less than 0 converted to 0',\n",
       "  'Winsorized nonzeros based on limits 0.1, 0.1']}"
      ]
     },
     "execution_count": 21,
     "metadata": {},
     "output_type": "execute_result"
    }
   ],
   "source": [
    "il_off_data._quantity"
   ]
  },
  {
   "cell_type": "code",
   "execution_count": 22,
   "metadata": {},
   "outputs": [],
   "source": [
    "#il_off_data.percStore_transform()\n",
    "#il_off_data.rating"
   ]
  },
  {
   "cell_type": "code",
   "execution_count": 23,
   "metadata": {
    "collapsed": true
   },
   "outputs": [],
   "source": [
    "il_sparse = il_off_data.sparse_matrix()"
   ]
  },
  {
   "cell_type": "markdown",
   "metadata": {},
   "source": [
    "# Grid Search"
   ]
  },
  {
   "cell_type": "code",
   "execution_count": 24,
   "metadata": {
    "collapsed": true
   },
   "outputs": [],
   "source": [
    "#Setting environment variable due to warning in Implicit package\n",
    "os.environ['OPENBLAS_NUM_THREADS'] = '1'"
   ]
  },
  {
   "cell_type": "code",
   "execution_count": 25,
   "metadata": {
    "scrolled": true
   },
   "outputs": [
    {
     "name": "stdout",
     "output_type": "stream",
     "text": [
      "Optimal Model: {'rmse_ave': 0.5942137279472921, 'alpha': 10, 'regularization': 0.1, 'prediction': array([[  3.27079439e-10,  -1.05773364e-10,   1.01925687e+00, ...,\n",
      "         -3.15305398e-10,   1.30366940e-10,   9.40614233e-10],\n",
      "       [  4.63549131e-10,  -5.94973020e-10,   1.03170577e+00, ...,\n",
      "          1.65741733e-10,   4.53241511e-10,   1.45193111e-09],\n",
      "       [ -7.51582917e-10,   1.16953410e-10,   9.83939712e-01, ...,\n",
      "         -6.32204412e-10,  -1.32797414e-10,  -2.57587955e-09],\n",
      "       ..., \n",
      "       [ -1.74020062e-09,   3.09078862e-10,   1.00809279e+00, ...,\n",
      "         -2.00917870e-09,  -3.32747824e-10,  -6.13023697e-09],\n",
      "       [ -4.39028844e-10,   8.70858774e-12,   9.70815510e-01, ...,\n",
      "          3.77676353e-11,  -1.63139360e-10,  -1.47899576e-09],\n",
      "       [ -1.96544038e-20,   3.66125996e-21,   4.52424953e-12, ...,\n",
      "         -2.81256599e-20,  -5.43522924e-21,  -7.20382761e-20]]), 'factors': 10}\n"
     ]
    }
   ],
   "source": [
    "#param = {'alpha':[1,10,100],'factors': [10,20,40,80],'regularization': [0.001,0.1]}\n",
    "param = {'alpha':[1,10,100],'factors': [10],'regularization': [0.1]}\n",
    "#d_test,opt_model,pred = implicit2.grid_search(il_sparse, param,itera=30,n_threads = 3,verbose = False, test_p=0.3)\n",
    "d_test,opt_model,pred = implicit2.grid_search(il_sparse, param,itera=1,n_threads = 3,verbose = False, test_p=0.3)"
   ]
  },
  {
   "cell_type": "markdown",
   "metadata": {},
   "source": [
    "# Recommendations"
   ]
  },
  {
   "cell_type": "code",
   "execution_count": 26,
   "metadata": {},
   "outputs": [],
   "source": [
    "tdlinx = '1402413'\n",
    "scores,prod_cd,prod_dsc,df = implicit2.predict_store(pred, il_sparse,il_off_data, prod_info, tdlinx,10)"
   ]
  },
  {
   "cell_type": "code",
   "execution_count": 27,
   "metadata": {
    "scrolled": true
   },
   "outputs": [
    {
     "data": {
      "text/html": [
       "<div>\n",
       "<style>\n",
       "    .dataframe thead tr:only-child th {\n",
       "        text-align: right;\n",
       "    }\n",
       "\n",
       "    .dataframe thead th {\n",
       "        text-align: left;\n",
       "    }\n",
       "\n",
       "    .dataframe tbody tr th {\n",
       "        vertical-align: top;\n",
       "    }\n",
       "</style>\n",
       "<table border=\"1\" class=\"dataframe\">\n",
       "  <thead>\n",
       "    <tr style=\"text-align: right;\">\n",
       "      <th></th>\n",
       "      <th>MASTER_PKG_SKU_CD</th>\n",
       "      <th>MASTER_SKU_DSC</th>\n",
       "      <th>ACTUAL</th>\n",
       "      <th>PREDICT</th>\n",
       "    </tr>\n",
       "  </thead>\n",
       "  <tbody>\n",
       "    <tr>\n",
       "      <th>40</th>\n",
       "      <td>80013986</td>\n",
       "      <td>MODELO NEGRA 12PK BT</td>\n",
       "      <td>2.20</td>\n",
       "      <td>1.32</td>\n",
       "    </tr>\n",
       "    <tr>\n",
       "      <th>55</th>\n",
       "      <td>80014011</td>\n",
       "      <td>VICTORIA 12PK BT</td>\n",
       "      <td>2.77</td>\n",
       "      <td>1.19</td>\n",
       "    </tr>\n",
       "    <tr>\n",
       "      <th>30</th>\n",
       "      <td>80013972</td>\n",
       "      <td>PACIFICO 12PK BT</td>\n",
       "      <td>2.08</td>\n",
       "      <td>1.18</td>\n",
       "    </tr>\n",
       "    <tr>\n",
       "      <th>32</th>\n",
       "      <td>80013977</td>\n",
       "      <td>MODELO NEGRA 6PK BT</td>\n",
       "      <td>0.69</td>\n",
       "      <td>1.16</td>\n",
       "    </tr>\n",
       "    <tr>\n",
       "      <th>54</th>\n",
       "      <td>80014010</td>\n",
       "      <td>VICTORIA 6PK BT</td>\n",
       "      <td>0.69</td>\n",
       "      <td>1.07</td>\n",
       "    </tr>\n",
       "    <tr>\n",
       "      <th>33</th>\n",
       "      <td>80013978</td>\n",
       "      <td>MODELO ESP 6PK BT</td>\n",
       "      <td>1.79</td>\n",
       "      <td>1.03</td>\n",
       "    </tr>\n",
       "    <tr>\n",
       "      <th>5</th>\n",
       "      <td>80013444</td>\n",
       "      <td>CORONA EX 24OZ BT</td>\n",
       "      <td>1.39</td>\n",
       "      <td>1.02</td>\n",
       "    </tr>\n",
       "    <tr>\n",
       "      <th>23</th>\n",
       "      <td>80013517</td>\n",
       "      <td>MODELO ESP 12PK BT</td>\n",
       "      <td>3.58</td>\n",
       "      <td>1.01</td>\n",
       "    </tr>\n",
       "    <tr>\n",
       "      <th>13</th>\n",
       "      <td>80013461</td>\n",
       "      <td>CORONA FAMILIAR 32OZ BT</td>\n",
       "      <td>2.34</td>\n",
       "      <td>1.01</td>\n",
       "    </tr>\n",
       "    <tr>\n",
       "      <th>24</th>\n",
       "      <td>80013518</td>\n",
       "      <td>MODELO ESP 12PK CAN</td>\n",
       "      <td>3.91</td>\n",
       "      <td>1.00</td>\n",
       "    </tr>\n",
       "    <tr>\n",
       "      <th>2</th>\n",
       "      <td>80013435</td>\n",
       "      <td>CORONA EX 12PK BT</td>\n",
       "      <td>3.00</td>\n",
       "      <td>1.00</td>\n",
       "    </tr>\n",
       "    <tr>\n",
       "      <th>45</th>\n",
       "      <td>80013993</td>\n",
       "      <td>MODELO ESP 24OZ BT</td>\n",
       "      <td>0.00</td>\n",
       "      <td>0.99</td>\n",
       "    </tr>\n",
       "    <tr>\n",
       "      <th>67</th>\n",
       "      <td>80019746</td>\n",
       "      <td>MODELO CHELADA 24OZ CAN</td>\n",
       "      <td>1.61</td>\n",
       "      <td>0.98</td>\n",
       "    </tr>\n",
       "    <tr>\n",
       "      <th>10</th>\n",
       "      <td>80013457</td>\n",
       "      <td>CORONA EX 6PK BT</td>\n",
       "      <td>1.39</td>\n",
       "      <td>0.97</td>\n",
       "    </tr>\n",
       "    <tr>\n",
       "      <th>26</th>\n",
       "      <td>80013522</td>\n",
       "      <td>MODELO ESP 24OZ CAN</td>\n",
       "      <td>2.08</td>\n",
       "      <td>0.94</td>\n",
       "    </tr>\n",
       "    <tr>\n",
       "      <th>83</th>\n",
       "      <td>80056172</td>\n",
       "      <td>VICTORIA 32OZ BT</td>\n",
       "      <td>0.00</td>\n",
       "      <td>0.92</td>\n",
       "    </tr>\n",
       "    <tr>\n",
       "      <th>29</th>\n",
       "      <td>80013971</td>\n",
       "      <td>PACIFICO 6PK BT</td>\n",
       "      <td>1.39</td>\n",
       "      <td>0.90</td>\n",
       "    </tr>\n",
       "    <tr>\n",
       "      <th>38</th>\n",
       "      <td>80013984</td>\n",
       "      <td>MODELO ESP 24PK CAN</td>\n",
       "      <td>1.79</td>\n",
       "      <td>0.86</td>\n",
       "    </tr>\n",
       "    <tr>\n",
       "      <th>27</th>\n",
       "      <td>80013968</td>\n",
       "      <td>CORONITA 7OZ 6PK BT</td>\n",
       "      <td>1.10</td>\n",
       "      <td>0.78</td>\n",
       "    </tr>\n",
       "    <tr>\n",
       "      <th>14</th>\n",
       "      <td>80013464</td>\n",
       "      <td>CORONA LT 12PK BT</td>\n",
       "      <td>0.00</td>\n",
       "      <td>0.52</td>\n",
       "    </tr>\n",
       "    <tr>\n",
       "      <th>51</th>\n",
       "      <td>80014007</td>\n",
       "      <td>PACIFICO BALLENA 32OZ BT</td>\n",
       "      <td>0.00</td>\n",
       "      <td>0.49</td>\n",
       "    </tr>\n",
       "    <tr>\n",
       "      <th>49</th>\n",
       "      <td>80014002</td>\n",
       "      <td>CORONITA 7OZ 24PK BT</td>\n",
       "      <td>0.00</td>\n",
       "      <td>0.44</td>\n",
       "    </tr>\n",
       "    <tr>\n",
       "      <th>6</th>\n",
       "      <td>80013447</td>\n",
       "      <td>CORONA EX 24PK BT</td>\n",
       "      <td>0.00</td>\n",
       "      <td>0.39</td>\n",
       "    </tr>\n",
       "    <tr>\n",
       "      <th>64</th>\n",
       "      <td>80014026</td>\n",
       "      <td>MODELO ESP 24PK BT</td>\n",
       "      <td>0.00</td>\n",
       "      <td>0.38</td>\n",
       "    </tr>\n",
       "    <tr>\n",
       "      <th>19</th>\n",
       "      <td>80013478</td>\n",
       "      <td>CORONA LT 6PK BT</td>\n",
       "      <td>1.39</td>\n",
       "      <td>0.33</td>\n",
       "    </tr>\n",
       "    <tr>\n",
       "      <th>69</th>\n",
       "      <td>80024732</td>\n",
       "      <td>VICTORIA 12PK CAN</td>\n",
       "      <td>0.00</td>\n",
       "      <td>0.30</td>\n",
       "    </tr>\n",
       "    <tr>\n",
       "      <th>82</th>\n",
       "      <td>80032234</td>\n",
       "      <td>NaN</td>\n",
       "      <td>0.00</td>\n",
       "      <td>0.25</td>\n",
       "    </tr>\n",
       "    <tr>\n",
       "      <th>57</th>\n",
       "      <td>80014014</td>\n",
       "      <td>CORONA EX 24OZ CAN LSE</td>\n",
       "      <td>0.00</td>\n",
       "      <td>0.24</td>\n",
       "    </tr>\n",
       "    <tr>\n",
       "      <th>66</th>\n",
       "      <td>80018933</td>\n",
       "      <td>MODELO ESP 16OZ 4PK CAN</td>\n",
       "      <td>0.00</td>\n",
       "      <td>0.23</td>\n",
       "    </tr>\n",
       "    <tr>\n",
       "      <th>3</th>\n",
       "      <td>80013437</td>\n",
       "      <td>CORONA EX 12PK CAN</td>\n",
       "      <td>0.00</td>\n",
       "      <td>0.15</td>\n",
       "    </tr>\n",
       "    <tr>\n",
       "      <th>...</th>\n",
       "      <td>...</td>\n",
       "      <td>...</td>\n",
       "      <td>...</td>\n",
       "      <td>...</td>\n",
       "    </tr>\n",
       "    <tr>\n",
       "      <th>18</th>\n",
       "      <td>80013475</td>\n",
       "      <td>CORONA LT 3.2 12PK BT</td>\n",
       "      <td>0.00</td>\n",
       "      <td>0.00</td>\n",
       "    </tr>\n",
       "    <tr>\n",
       "      <th>20</th>\n",
       "      <td>80013485</td>\n",
       "      <td>NaN</td>\n",
       "      <td>0.00</td>\n",
       "      <td>-0.00</td>\n",
       "    </tr>\n",
       "    <tr>\n",
       "      <th>31</th>\n",
       "      <td>80013973</td>\n",
       "      <td>NaN</td>\n",
       "      <td>0.00</td>\n",
       "      <td>-0.00</td>\n",
       "    </tr>\n",
       "    <tr>\n",
       "      <th>34</th>\n",
       "      <td>80013979</td>\n",
       "      <td>CORONA EX 3.2 24OZ BT</td>\n",
       "      <td>0.00</td>\n",
       "      <td>0.00</td>\n",
       "    </tr>\n",
       "    <tr>\n",
       "      <th>35</th>\n",
       "      <td>80013980</td>\n",
       "      <td>CORONITA 3.2 7OZ 6PK BT</td>\n",
       "      <td>0.00</td>\n",
       "      <td>0.00</td>\n",
       "    </tr>\n",
       "    <tr>\n",
       "      <th>36</th>\n",
       "      <td>80013981</td>\n",
       "      <td>VARIETY PACK 6PK BT</td>\n",
       "      <td>0.00</td>\n",
       "      <td>0.00</td>\n",
       "    </tr>\n",
       "    <tr>\n",
       "      <th>61</th>\n",
       "      <td>80014023</td>\n",
       "      <td>MODELO ESP 3.2 18PK CAN</td>\n",
       "      <td>0.00</td>\n",
       "      <td>-0.00</td>\n",
       "    </tr>\n",
       "    <tr>\n",
       "      <th>39</th>\n",
       "      <td>80013985</td>\n",
       "      <td>PACIFICO 24PK BT</td>\n",
       "      <td>0.00</td>\n",
       "      <td>-0.00</td>\n",
       "    </tr>\n",
       "    <tr>\n",
       "      <th>41</th>\n",
       "      <td>80013987</td>\n",
       "      <td>NaN</td>\n",
       "      <td>0.00</td>\n",
       "      <td>0.00</td>\n",
       "    </tr>\n",
       "    <tr>\n",
       "      <th>37</th>\n",
       "      <td>80013983</td>\n",
       "      <td>PACIFICO 7OZ 6PK BT</td>\n",
       "      <td>0.00</td>\n",
       "      <td>-0.00</td>\n",
       "    </tr>\n",
       "    <tr>\n",
       "      <th>43</th>\n",
       "      <td>80013991</td>\n",
       "      <td>CORONA LIGHT 1/4 BL KEG</td>\n",
       "      <td>0.00</td>\n",
       "      <td>0.00</td>\n",
       "    </tr>\n",
       "    <tr>\n",
       "      <th>52</th>\n",
       "      <td>80014008</td>\n",
       "      <td>PACIFICO 1/2 BL KEG</td>\n",
       "      <td>0.00</td>\n",
       "      <td>0.00</td>\n",
       "    </tr>\n",
       "    <tr>\n",
       "      <th>60</th>\n",
       "      <td>80014022</td>\n",
       "      <td>MODELO ESP 3.2 12PK CAN</td>\n",
       "      <td>0.00</td>\n",
       "      <td>-0.00</td>\n",
       "    </tr>\n",
       "    <tr>\n",
       "      <th>59</th>\n",
       "      <td>80014020</td>\n",
       "      <td>MODELO ESP 3.2 12PK BT</td>\n",
       "      <td>0.00</td>\n",
       "      <td>0.00</td>\n",
       "    </tr>\n",
       "    <tr>\n",
       "      <th>53</th>\n",
       "      <td>80014009</td>\n",
       "      <td>VICTORIA 1/4 BL KEG</td>\n",
       "      <td>0.00</td>\n",
       "      <td>0.00</td>\n",
       "    </tr>\n",
       "    <tr>\n",
       "      <th>97</th>\n",
       "      <td>80059842</td>\n",
       "      <td>MODELO CHE TAMPIC 3.2 24OZ CAN</td>\n",
       "      <td>0.00</td>\n",
       "      <td>0.00</td>\n",
       "    </tr>\n",
       "    <tr>\n",
       "      <th>1</th>\n",
       "      <td>80012704</td>\n",
       "      <td>VICTORIA 1/2 BL KEG</td>\n",
       "      <td>0.00</td>\n",
       "      <td>-0.00</td>\n",
       "    </tr>\n",
       "    <tr>\n",
       "      <th>48</th>\n",
       "      <td>80014001</td>\n",
       "      <td>PACIFICO 24OZ BT</td>\n",
       "      <td>0.00</td>\n",
       "      <td>0.00</td>\n",
       "    </tr>\n",
       "    <tr>\n",
       "      <th>56</th>\n",
       "      <td>80014012</td>\n",
       "      <td>MODELO NEGRA 1/2 BL KEG</td>\n",
       "      <td>0.00</td>\n",
       "      <td>-0.01</td>\n",
       "    </tr>\n",
       "    <tr>\n",
       "      <th>15</th>\n",
       "      <td>80013466</td>\n",
       "      <td>CORONA LT 12PK CAN</td>\n",
       "      <td>0.00</td>\n",
       "      <td>-0.04</td>\n",
       "    </tr>\n",
       "    <tr>\n",
       "      <th>11</th>\n",
       "      <td>80013458</td>\n",
       "      <td>CORONA EX 6PK CAN</td>\n",
       "      <td>0.00</td>\n",
       "      <td>-0.04</td>\n",
       "    </tr>\n",
       "    <tr>\n",
       "      <th>46</th>\n",
       "      <td>80013994</td>\n",
       "      <td>VICTORIA 24PK BT</td>\n",
       "      <td>0.00</td>\n",
       "      <td>-0.05</td>\n",
       "    </tr>\n",
       "    <tr>\n",
       "      <th>21</th>\n",
       "      <td>80013515</td>\n",
       "      <td>MODELO ESP 1/2 BL</td>\n",
       "      <td>0.00</td>\n",
       "      <td>-0.06</td>\n",
       "    </tr>\n",
       "    <tr>\n",
       "      <th>50</th>\n",
       "      <td>80014006</td>\n",
       "      <td>MODELO ESP 24OZ 3PK CAN</td>\n",
       "      <td>0.00</td>\n",
       "      <td>-0.06</td>\n",
       "    </tr>\n",
       "    <tr>\n",
       "      <th>28</th>\n",
       "      <td>80013970</td>\n",
       "      <td>MODELO ESP 6PK CAN</td>\n",
       "      <td>0.00</td>\n",
       "      <td>-0.09</td>\n",
       "    </tr>\n",
       "    <tr>\n",
       "      <th>16</th>\n",
       "      <td>80013469</td>\n",
       "      <td>CORONA LT 18PK BT</td>\n",
       "      <td>0.00</td>\n",
       "      <td>-0.09</td>\n",
       "    </tr>\n",
       "    <tr>\n",
       "      <th>12</th>\n",
       "      <td>80013460</td>\n",
       "      <td>CORONA EX 24PK CAN</td>\n",
       "      <td>0.00</td>\n",
       "      <td>-0.10</td>\n",
       "    </tr>\n",
       "    <tr>\n",
       "      <th>58</th>\n",
       "      <td>80014016</td>\n",
       "      <td>CORONA EX 16OZ 6PK CAN</td>\n",
       "      <td>0.00</td>\n",
       "      <td>-0.13</td>\n",
       "    </tr>\n",
       "    <tr>\n",
       "      <th>17</th>\n",
       "      <td>80013473</td>\n",
       "      <td>CORONA LT 24PK BT</td>\n",
       "      <td>0.00</td>\n",
       "      <td>-0.16</td>\n",
       "    </tr>\n",
       "    <tr>\n",
       "      <th>70</th>\n",
       "      <td>80026873</td>\n",
       "      <td>CORONA EX 18PK CAN</td>\n",
       "      <td>0.00</td>\n",
       "      <td>-0.34</td>\n",
       "    </tr>\n",
       "  </tbody>\n",
       "</table>\n",
       "<p>98 rows × 4 columns</p>\n",
       "</div>"
      ],
      "text/plain": [
       "    MASTER_PKG_SKU_CD                  MASTER_SKU_DSC  ACTUAL  PREDICT\n",
       "40           80013986            MODELO NEGRA 12PK BT    2.20     1.32\n",
       "55           80014011                VICTORIA 12PK BT    2.77     1.19\n",
       "30           80013972                PACIFICO 12PK BT    2.08     1.18\n",
       "32           80013977             MODELO NEGRA 6PK BT    0.69     1.16\n",
       "54           80014010                 VICTORIA 6PK BT    0.69     1.07\n",
       "33           80013978               MODELO ESP 6PK BT    1.79     1.03\n",
       "5            80013444               CORONA EX 24OZ BT    1.39     1.02\n",
       "23           80013517              MODELO ESP 12PK BT    3.58     1.01\n",
       "13           80013461         CORONA FAMILIAR 32OZ BT    2.34     1.01\n",
       "24           80013518             MODELO ESP 12PK CAN    3.91     1.00\n",
       "2            80013435               CORONA EX 12PK BT    3.00     1.00\n",
       "45           80013993              MODELO ESP 24OZ BT    0.00     0.99\n",
       "67           80019746         MODELO CHELADA 24OZ CAN    1.61     0.98\n",
       "10           80013457                CORONA EX 6PK BT    1.39     0.97\n",
       "26           80013522             MODELO ESP 24OZ CAN    2.08     0.94\n",
       "83           80056172                VICTORIA 32OZ BT    0.00     0.92\n",
       "29           80013971                 PACIFICO 6PK BT    1.39     0.90\n",
       "38           80013984             MODELO ESP 24PK CAN    1.79     0.86\n",
       "27           80013968             CORONITA 7OZ 6PK BT    1.10     0.78\n",
       "14           80013464               CORONA LT 12PK BT    0.00     0.52\n",
       "51           80014007        PACIFICO BALLENA 32OZ BT    0.00     0.49\n",
       "49           80014002            CORONITA 7OZ 24PK BT    0.00     0.44\n",
       "6            80013447               CORONA EX 24PK BT    0.00     0.39\n",
       "64           80014026              MODELO ESP 24PK BT    0.00     0.38\n",
       "19           80013478                CORONA LT 6PK BT    1.39     0.33\n",
       "69           80024732               VICTORIA 12PK CAN    0.00     0.30\n",
       "82           80032234                             NaN    0.00     0.25\n",
       "57           80014014          CORONA EX 24OZ CAN LSE    0.00     0.24\n",
       "66           80018933         MODELO ESP 16OZ 4PK CAN    0.00     0.23\n",
       "3            80013437              CORONA EX 12PK CAN    0.00     0.15\n",
       "..                ...                             ...     ...      ...\n",
       "18           80013475           CORONA LT 3.2 12PK BT    0.00     0.00\n",
       "20           80013485                             NaN    0.00    -0.00\n",
       "31           80013973                             NaN    0.00    -0.00\n",
       "34           80013979           CORONA EX 3.2 24OZ BT    0.00     0.00\n",
       "35           80013980         CORONITA 3.2 7OZ 6PK BT    0.00     0.00\n",
       "36           80013981             VARIETY PACK 6PK BT    0.00     0.00\n",
       "61           80014023         MODELO ESP 3.2 18PK CAN    0.00    -0.00\n",
       "39           80013985                PACIFICO 24PK BT    0.00    -0.00\n",
       "41           80013987                             NaN    0.00     0.00\n",
       "37           80013983             PACIFICO 7OZ 6PK BT    0.00    -0.00\n",
       "43           80013991         CORONA LIGHT 1/4 BL KEG    0.00     0.00\n",
       "52           80014008             PACIFICO 1/2 BL KEG    0.00     0.00\n",
       "60           80014022         MODELO ESP 3.2 12PK CAN    0.00    -0.00\n",
       "59           80014020          MODELO ESP 3.2 12PK BT    0.00     0.00\n",
       "53           80014009             VICTORIA 1/4 BL KEG    0.00     0.00\n",
       "97           80059842  MODELO CHE TAMPIC 3.2 24OZ CAN    0.00     0.00\n",
       "1            80012704             VICTORIA 1/2 BL KEG    0.00    -0.00\n",
       "48           80014001                PACIFICO 24OZ BT    0.00     0.00\n",
       "56           80014012         MODELO NEGRA 1/2 BL KEG    0.00    -0.01\n",
       "15           80013466              CORONA LT 12PK CAN    0.00    -0.04\n",
       "11           80013458               CORONA EX 6PK CAN    0.00    -0.04\n",
       "46           80013994                VICTORIA 24PK BT    0.00    -0.05\n",
       "21           80013515               MODELO ESP 1/2 BL    0.00    -0.06\n",
       "50           80014006         MODELO ESP 24OZ 3PK CAN    0.00    -0.06\n",
       "28           80013970              MODELO ESP 6PK CAN    0.00    -0.09\n",
       "16           80013469               CORONA LT 18PK BT    0.00    -0.09\n",
       "12           80013460              CORONA EX 24PK CAN    0.00    -0.10\n",
       "58           80014016          CORONA EX 16OZ 6PK CAN    0.00    -0.13\n",
       "17           80013473               CORONA LT 24PK BT    0.00    -0.16\n",
       "70           80026873              CORONA EX 18PK CAN    0.00    -0.34\n",
       "\n",
       "[98 rows x 4 columns]"
      ]
     },
     "execution_count": 27,
     "metadata": {},
     "output_type": "execute_result"
    }
   ],
   "source": [
    "df"
   ]
  },
  {
   "cell_type": "code",
   "execution_count": 30,
   "metadata": {},
   "outputs": [
    {
     "data": {
      "text/plain": [
       "['MODELO ESP 24OZ BT',\n",
       " 'VICTORIA 32OZ BT',\n",
       " 'CORONA LT 12PK BT',\n",
       " 'PACIFICO BALLENA 32OZ BT',\n",
       " 'CORONITA 7OZ 24PK BT',\n",
       " 'CORONA EX 24PK BT',\n",
       " 'MODELO ESP 24PK BT',\n",
       " 'VICTORIA 12PK CAN',\n",
       " nan,\n",
       " 'CORONA EX 24OZ CAN LSE']"
      ]
     },
     "execution_count": 30,
     "metadata": {},
     "output_type": "execute_result"
    }
   ],
   "source": [
    "prod_dsc"
   ]
  },
  {
   "cell_type": "code",
   "execution_count": 31,
   "metadata": {},
   "outputs": [
    {
     "data": {
      "text/plain": [
       "[80013993,\n",
       " 80056172,\n",
       " 80013464,\n",
       " 80014007,\n",
       " 80014002,\n",
       " 80013447,\n",
       " 80014026,\n",
       " 80024732,\n",
       " 80032234,\n",
       " 80014014]"
      ]
     },
     "execution_count": 31,
     "metadata": {},
     "output_type": "execute_result"
    }
   ],
   "source": [
    "prod_cd"
   ]
  }
 ],
 "metadata": {
  "anaconda-cloud": {},
  "kernelspec": {
   "display_name": "Python 2",
   "language": "python",
   "name": "python2"
  },
  "language_info": {
   "codemirror_mode": {
    "name": "ipython",
    "version": 2
   },
   "file_extension": ".py",
   "mimetype": "text/x-python",
   "name": "python",
   "nbconvert_exporter": "python",
   "pygments_lexer": "ipython2",
   "version": "2.7.12"
  }
 },
 "nbformat": 4,
 "nbformat_minor": 1
}
