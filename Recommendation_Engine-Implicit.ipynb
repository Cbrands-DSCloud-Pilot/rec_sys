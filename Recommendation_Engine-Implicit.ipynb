{
 "cells": [
  {
   "cell_type": "code",
   "execution_count": 1,
   "metadata": {
    "collapsed": false
   },
   "outputs": [],
   "source": [
    "import pandas as pd\n",
    "import scipy.sparse as sparse\n",
    "import numpy as np\n",
    "from scipy.sparse.linalg import spsolve\n",
    "import random\n",
    "import time\n",
    "import itertools\n",
    "from scipy.stats import mstats\n",
    "\n",
    "#!pip install implicit\n",
    "from implicit.als import AlternatingLeastSquares\n",
    "import implicit2\n",
    "from ratings import ratings\n",
    "from S3_helper import S3_helper"
   ]
  },
  {
   "cell_type": "markdown",
   "metadata": {},
   "source": [
    "# Run Unit Tests"
   ]
  },
  {
   "cell_type": "code",
   "execution_count": 2,
   "metadata": {
    "collapsed": false
   },
   "outputs": [
    {
     "name": "stdout",
     "output_type": "stream",
     "text": [
      "test_rmse (test_implicit2.TestImplicit2) ... ok\r\n",
      "test_train_test (test_implicit2.TestImplicit2) ... ok\r\n",
      "\r\n",
      "----------------------------------------------------------------------\r\n",
      "Ran 2 tests in 0.004s\r\n",
      "\r\n",
      "OK\r\n"
     ]
    }
   ],
   "source": [
    "!python -m unittest -v test_implicit2"
   ]
  },
  {
   "cell_type": "code",
   "execution_count": 3,
   "metadata": {
    "collapsed": false
   },
   "outputs": [
    {
     "name": "stdout",
     "output_type": "stream",
     "text": [
      "test_binary (test_ratings.TestRating) ... ok\n",
      "test_lte (test_ratings.TestRating) ... ok\n",
      "test_natLog (test_ratings.TestRating) ... ok\n",
      "test_percStore (test_ratings.TestRating) ... ok\n",
      "test_sparseMatrix (test_ratings.TestRating) ... ok\n",
      "test_winsorize (test_ratings.TestRating) ... ok\n",
      "\n",
      "----------------------------------------------------------------------\n",
      "Ran 6 tests in 0.045s\n",
      "\n",
      "OK\n"
     ]
    }
   ],
   "source": [
    "!python -m unittest -v test_ratings"
   ]
  },
  {
   "cell_type": "markdown",
   "metadata": {},
   "source": [
    "# Load Data"
   ]
  },
  {
   "cell_type": "code",
   "execution_count": 4,
   "metadata": {
    "collapsed": true
   },
   "outputs": [],
   "source": [
    "access = ''\n",
    "secret = ''\n",
    "bucket = ''"
   ]
  },
  {
   "cell_type": "code",
   "execution_count": 5,
   "metadata": {
    "collapsed": false
   },
   "outputs": [],
   "source": [
    "cb_s3 = S3_helper(access,secret,bucket)"
   ]
  },
  {
   "cell_type": "code",
   "execution_count": 7,
   "metadata": {
    "collapsed": false
   },
   "outputs": [],
   "source": [
    "path = 'Rec_Eng/Product_info.csv'\n",
    "prod_info = cb_s3.s3_CSVtoDF(path)\n",
    "prod_info = prod_info[prod_info['STOCK_TYPE_CD'].isin(['S','D'])]\n",
    "master_sku = list(prod_info.MASTER_SKU_CD.unique())\n",
    "master_sku = [str(sku) for sku in master_sku]\n",
    "master_pkg = list(prod_info.MASTER_PKG_CD.unique())"
   ]
  },
  {
   "cell_type": "code",
   "execution_count": 10,
   "metadata": {
    "collapsed": false
   },
   "outputs": [
    {
     "data": {
      "text/html": [
       "<div>\n",
       "<table border=\"1\" class=\"dataframe\">\n",
       "  <thead>\n",
       "    <tr style=\"text-align: right;\">\n",
       "      <th></th>\n",
       "      <th>ITEM_ID</th>\n",
       "      <th>ITEM_01_CD</th>\n",
       "      <th>ITEM_01_DSC</th>\n",
       "      <th>ITEM_02_CD</th>\n",
       "      <th>ITEM_02_DSC</th>\n",
       "      <th>ITEM_03_CD</th>\n",
       "      <th>ITEM_03_DSC</th>\n",
       "      <th>ITEM_TYPE_CD</th>\n",
       "      <th>ITEM_TYPE_DSC</th>\n",
       "      <th>BRAND_FAMILY_CD</th>\n",
       "      <th>...</th>\n",
       "      <th>STOCK_TYPE_CD</th>\n",
       "      <th>STOCK_TYPE_DSC</th>\n",
       "      <th>CONTAINER_ID_CD</th>\n",
       "      <th>CONTAINER_ID_DSC</th>\n",
       "      <th>COUNTRY_CD</th>\n",
       "      <th>COUNTRY_DSC</th>\n",
       "      <th>COMPONENT_SUB_TYPE_CD</th>\n",
       "      <th>COMPONENT_SUB_TYPE_DSC</th>\n",
       "      <th>UOM_PRIM_CD</th>\n",
       "      <th>UOM_PRIM_DSC</th>\n",
       "    </tr>\n",
       "  </thead>\n",
       "  <tbody>\n",
       "    <tr>\n",
       "      <th>0</th>\n",
       "      <td>1454</td>\n",
       "      <td>10158</td>\n",
       "      <td>CORONITA 7OZ 6PK DEP BT</td>\n",
       "      <td>10158</td>\n",
       "      <td>DEP BT</td>\n",
       "      <td>10158</td>\n",
       "      <td>CORONITA 7OZ 6PK BT DEP</td>\n",
       "      <td>102</td>\n",
       "      <td>FINISHED GOODS - CASE</td>\n",
       "      <td>736</td>\n",
       "      <td>...</td>\n",
       "      <td>S</td>\n",
       "      <td>STOCK END-ITEM</td>\n",
       "      <td>100</td>\n",
       "      <td>BOTTLE</td>\n",
       "      <td>225</td>\n",
       "      <td>MEXICO</td>\n",
       "      <td>28</td>\n",
       "      <td>OTHER GLASS</td>\n",
       "      <td>CA</td>\n",
       "      <td>CASE</td>\n",
       "    </tr>\n",
       "    <tr>\n",
       "      <th>1</th>\n",
       "      <td>1457</td>\n",
       "      <td>10159</td>\n",
       "      <td>CORONA LT 6PK DEP BT</td>\n",
       "      <td>10159</td>\n",
       "      <td>DEP BT</td>\n",
       "      <td>10159</td>\n",
       "      <td>CORONA LIGHT 6PK BT DEP</td>\n",
       "      <td>102</td>\n",
       "      <td>FINISHED GOODS - CASE</td>\n",
       "      <td>736</td>\n",
       "      <td>...</td>\n",
       "      <td>S</td>\n",
       "      <td>STOCK END-ITEM</td>\n",
       "      <td>100</td>\n",
       "      <td>BOTTLE</td>\n",
       "      <td>225</td>\n",
       "      <td>MEXICO</td>\n",
       "      <td>28</td>\n",
       "      <td>OTHER GLASS</td>\n",
       "      <td>CA</td>\n",
       "      <td>CASE</td>\n",
       "    </tr>\n",
       "    <tr>\n",
       "      <th>2</th>\n",
       "      <td>1458</td>\n",
       "      <td>10160</td>\n",
       "      <td>CORONA LT 12PK DEP BT</td>\n",
       "      <td>10160</td>\n",
       "      <td>DEP BT</td>\n",
       "      <td>10160</td>\n",
       "      <td>CORONA LIGHT 12PK BT DEP</td>\n",
       "      <td>102</td>\n",
       "      <td>FINISHED GOODS - CASE</td>\n",
       "      <td>736</td>\n",
       "      <td>...</td>\n",
       "      <td>S</td>\n",
       "      <td>STOCK END-ITEM</td>\n",
       "      <td>100</td>\n",
       "      <td>BOTTLE</td>\n",
       "      <td>225</td>\n",
       "      <td>MEXICO</td>\n",
       "      <td>28</td>\n",
       "      <td>OTHER GLASS</td>\n",
       "      <td>CA</td>\n",
       "      <td>CASE</td>\n",
       "    </tr>\n",
       "    <tr>\n",
       "      <th>3</th>\n",
       "      <td>1459</td>\n",
       "      <td>10161</td>\n",
       "      <td>MODELO NEGRA 6PK DEP BT</td>\n",
       "      <td>10161</td>\n",
       "      <td>DEP BT</td>\n",
       "      <td>10161</td>\n",
       "      <td>NEGRA MODELO BEER 6PK BT DEP</td>\n",
       "      <td>102</td>\n",
       "      <td>FINISHED GOODS - CASE</td>\n",
       "      <td>737</td>\n",
       "      <td>...</td>\n",
       "      <td>S</td>\n",
       "      <td>STOCK END-ITEM</td>\n",
       "      <td>100</td>\n",
       "      <td>BOTTLE</td>\n",
       "      <td>225</td>\n",
       "      <td>MEXICO</td>\n",
       "      <td>28</td>\n",
       "      <td>OTHER GLASS</td>\n",
       "      <td>CA</td>\n",
       "      <td>CASE</td>\n",
       "    </tr>\n",
       "    <tr>\n",
       "      <th>4</th>\n",
       "      <td>1463</td>\n",
       "      <td>10163</td>\n",
       "      <td>MODELO ESP 6PK DEP CAN</td>\n",
       "      <td>10163</td>\n",
       "      <td>DEP CAN</td>\n",
       "      <td>10163</td>\n",
       "      <td>MODELO ESPECIAL 6PK CAN DEP</td>\n",
       "      <td>102</td>\n",
       "      <td>FINISHED GOODS - CASE</td>\n",
       "      <td>737</td>\n",
       "      <td>...</td>\n",
       "      <td>S</td>\n",
       "      <td>STOCK END-ITEM</td>\n",
       "      <td>101</td>\n",
       "      <td>CAN(S)</td>\n",
       "      <td>225</td>\n",
       "      <td>MEXICO</td>\n",
       "      <td>259</td>\n",
       "      <td>CAN</td>\n",
       "      <td>CA</td>\n",
       "      <td>CASE</td>\n",
       "    </tr>\n",
       "  </tbody>\n",
       "</table>\n",
       "<p>5 rows × 57 columns</p>\n",
       "</div>"
      ],
      "text/plain": [
       "   ITEM_ID  ITEM_01_CD              ITEM_01_DSC  ITEM_02_CD ITEM_02_DSC  \\\n",
       "0     1454       10158  CORONITA 7OZ 6PK DEP BT       10158      DEP BT   \n",
       "1     1457       10159     CORONA LT 6PK DEP BT       10159      DEP BT   \n",
       "2     1458       10160    CORONA LT 12PK DEP BT       10160      DEP BT   \n",
       "3     1459       10161  MODELO NEGRA 6PK DEP BT       10161      DEP BT   \n",
       "4     1463       10163   MODELO ESP 6PK DEP CAN       10163     DEP CAN   \n",
       "\n",
       "   ITEM_03_CD                   ITEM_03_DSC  ITEM_TYPE_CD  \\\n",
       "0       10158       CORONITA 7OZ 6PK BT DEP           102   \n",
       "1       10159       CORONA LIGHT 6PK BT DEP           102   \n",
       "2       10160      CORONA LIGHT 12PK BT DEP           102   \n",
       "3       10161  NEGRA MODELO BEER 6PK BT DEP           102   \n",
       "4       10163   MODELO ESPECIAL 6PK CAN DEP           102   \n",
       "\n",
       "           ITEM_TYPE_DSC  BRAND_FAMILY_CD      ...      STOCK_TYPE_CD  \\\n",
       "0  FINISHED GOODS - CASE              736      ...                  S   \n",
       "1  FINISHED GOODS - CASE              736      ...                  S   \n",
       "2  FINISHED GOODS - CASE              736      ...                  S   \n",
       "3  FINISHED GOODS - CASE              737      ...                  S   \n",
       "4  FINISHED GOODS - CASE              737      ...                  S   \n",
       "\n",
       "   STOCK_TYPE_DSC CONTAINER_ID_CD  CONTAINER_ID_DSC COUNTRY_CD  COUNTRY_DSC  \\\n",
       "0  STOCK END-ITEM             100            BOTTLE        225       MEXICO   \n",
       "1  STOCK END-ITEM             100            BOTTLE        225       MEXICO   \n",
       "2  STOCK END-ITEM             100            BOTTLE        225       MEXICO   \n",
       "3  STOCK END-ITEM             100            BOTTLE        225       MEXICO   \n",
       "4  STOCK END-ITEM             101            CAN(S)        225       MEXICO   \n",
       "\n",
       "  COMPONENT_SUB_TYPE_CD  COMPONENT_SUB_TYPE_DSC UOM_PRIM_CD  UOM_PRIM_DSC  \n",
       "0                    28             OTHER GLASS          CA          CASE  \n",
       "1                    28             OTHER GLASS          CA          CASE  \n",
       "2                    28             OTHER GLASS          CA          CASE  \n",
       "3                    28             OTHER GLASS          CA          CASE  \n",
       "4                   259                     CAN          CA          CASE  \n",
       "\n",
       "[5 rows x 57 columns]"
      ]
     },
     "execution_count": 10,
     "metadata": {},
     "output_type": "execute_result"
    }
   ],
   "source": [
    "prod_info.head()"
   ]
  },
  {
   "cell_type": "code",
   "execution_count": 8,
   "metadata": {
    "collapsed": false
   },
   "outputs": [],
   "source": [
    "path = 'Rec_Eng/IL_OFF.csv'\n",
    "data = cb_s3.s3_CSVtoDF(path)"
   ]
  },
  {
   "cell_type": "code",
   "execution_count": 9,
   "metadata": {
    "collapsed": false
   },
   "outputs": [
    {
     "data": {
      "text/html": [
       "<div>\n",
       "<table border=\"1\" class=\"dataframe\">\n",
       "  <thead>\n",
       "    <tr style=\"text-align: right;\">\n",
       "      <th></th>\n",
       "      <th>MASTER_PKG_SKU_CD</th>\n",
       "      <th>TDLINX_STORE_CD</th>\n",
       "      <th>L90_TY_QTY</th>\n",
       "    </tr>\n",
       "  </thead>\n",
       "  <tbody>\n",
       "    <tr>\n",
       "      <th>0</th>\n",
       "      <td>80014014</td>\n",
       "      <td>3941559</td>\n",
       "      <td>0.0000</td>\n",
       "    </tr>\n",
       "    <tr>\n",
       "      <th>1</th>\n",
       "      <td>80013520</td>\n",
       "      <td>0326339</td>\n",
       "      <td>19.5000</td>\n",
       "    </tr>\n",
       "    <tr>\n",
       "      <th>2</th>\n",
       "      <td>80014007</td>\n",
       "      <td>1402671</td>\n",
       "      <td>1.3333</td>\n",
       "    </tr>\n",
       "    <tr>\n",
       "      <th>3</th>\n",
       "      <td>80013970</td>\n",
       "      <td>0175965</td>\n",
       "      <td>0.0000</td>\n",
       "    </tr>\n",
       "    <tr>\n",
       "      <th>4</th>\n",
       "      <td>80013460</td>\n",
       "      <td>0770764</td>\n",
       "      <td>0.0000</td>\n",
       "    </tr>\n",
       "  </tbody>\n",
       "</table>\n",
       "</div>"
      ],
      "text/plain": [
       "   MASTER_PKG_SKU_CD TDLINX_STORE_CD  L90_TY_QTY\n",
       "0           80014014         3941559      0.0000\n",
       "1           80013520         0326339     19.5000\n",
       "2           80014007         1402671      1.3333\n",
       "3           80013970         0175965      0.0000\n",
       "4           80013460         0770764      0.0000"
      ]
     },
     "execution_count": 9,
     "metadata": {},
     "output_type": "execute_result"
    }
   ],
   "source": [
    "data.head()"
   ]
  },
  {
   "cell_type": "markdown",
   "metadata": {},
   "source": [
    "# Data Preprocessing"
   ]
  },
  {
   "cell_type": "code",
   "execution_count": 9,
   "metadata": {
    "collapsed": false
   },
   "outputs": [
    {
     "data": {
      "text/plain": [
       "count    617052.000000\n",
       "mean          2.915046\n",
       "std          26.884196\n",
       "min         -10.000000\n",
       "25%           0.000000\n",
       "50%           0.000000\n",
       "75%           0.000000\n",
       "max        7254.000000\n",
       "Name: L90_TY_QTY, dtype: float64"
      ]
     },
     "execution_count": 9,
     "metadata": {},
     "output_type": "execute_result"
    }
   ],
   "source": [
    "data['L90_TY_QTY'].describe()"
   ]
  },
  {
   "cell_type": "code",
   "execution_count": 10,
   "metadata": {
    "collapsed": false
   },
   "outputs": [
    {
     "data": {
      "text/plain": [
       "count    78270.000000\n",
       "mean        22.987211\n",
       "std         72.364276\n",
       "min          0.500000\n",
       "25%          3.000000\n",
       "50%          7.000000\n",
       "75%         19.000000\n",
       "max       7254.000000\n",
       "Name: L90_TY_QTY, dtype: float64"
      ]
     },
     "execution_count": 10,
     "metadata": {},
     "output_type": "execute_result"
    }
   ],
   "source": [
    "data[data['L90_TY_QTY']>0]['L90_TY_QTY'].describe()"
   ]
  },
  {
   "cell_type": "code",
   "execution_count": 11,
   "metadata": {
    "collapsed": false
   },
   "outputs": [],
   "source": [
    "il_off_data = ratings(data,quantCol='L90_TY_QTY')"
   ]
  },
  {
   "cell_type": "code",
   "execution_count": 12,
   "metadata": {
    "collapsed": false
   },
   "outputs": [
    {
     "data": {
      "text/plain": [
       "(617052, 3)"
      ]
     },
     "execution_count": 12,
     "metadata": {},
     "output_type": "execute_result"
    }
   ],
   "source": [
    "data.shape"
   ]
  },
  {
   "cell_type": "code",
   "execution_count": 13,
   "metadata": {
    "collapsed": false
   },
   "outputs": [
    {
     "data": {
      "text/plain": [
       "array([  0.,   0.,  18., ...,   0.,   0.,   0.], dtype=float32)"
      ]
     },
     "execution_count": 13,
     "metadata": {},
     "output_type": "execute_result"
    }
   ],
   "source": [
    "il_off_data.lte_quantTrans()\n",
    "il_off_data.quantity"
   ]
  },
  {
   "cell_type": "code",
   "execution_count": 14,
   "metadata": {
    "collapsed": false
   },
   "outputs": [
    {
     "data": {
      "text/plain": [
       "array([  0.,   0.,  18., ...,   0.,   0.,   0.], dtype=float32)"
      ]
     },
     "execution_count": 14,
     "metadata": {},
     "output_type": "execute_result"
    }
   ],
   "source": [
    "il_off_data.winsorize_quantTrans()\n",
    "il_off_data.quantity"
   ]
  },
  {
   "cell_type": "code",
   "execution_count": 15,
   "metadata": {
    "collapsed": false
   },
   "outputs": [
    {
     "data": {
      "text/plain": [
       "array([ 0.        ,  0.        ,  2.94443893, ...,  0.        ,\n",
       "        0.        ,  0.        ], dtype=float32)"
      ]
     },
     "execution_count": 15,
     "metadata": {},
     "output_type": "execute_result"
    }
   ],
   "source": [
    "il_off_data.natLog_rateTrans()\n",
    "il_off_data.rating"
   ]
  },
  {
   "cell_type": "code",
   "execution_count": 16,
   "metadata": {
    "collapsed": false
   },
   "outputs": [
    {
     "data": {
      "text/plain": [
       "{'Data Column': 'L90_TY_QTY',\n",
       " 'Transformation': ['Values less than 0 converted to 0',\n",
       "  'Winsorized nonzeros based on limits 0.1, 0.1']}"
      ]
     },
     "execution_count": 16,
     "metadata": {},
     "output_type": "execute_result"
    }
   ],
   "source": [
    "il_off_data._quantity"
   ]
  },
  {
   "cell_type": "code",
   "execution_count": 200,
   "metadata": {
    "collapsed": false
   },
   "outputs": [
    {
     "data": {
      "text/plain": [
       "array([ 0.        ,  0.        ,  0.28571429, ...,  0.        ,\n",
       "        0.        ,  0.        ])"
      ]
     },
     "execution_count": 200,
     "metadata": {},
     "output_type": "execute_result"
    }
   ],
   "source": [
    "#il_off_data.percStore_transform()\n",
    "#il_off_data.rating"
   ]
  },
  {
   "cell_type": "code",
   "execution_count": 17,
   "metadata": {
    "collapsed": false
   },
   "outputs": [],
   "source": [
    "il_sparse = il_off_data.sparse_matrix()"
   ]
  },
  {
   "cell_type": "code",
   "execution_count": 15,
   "metadata": {
    "collapsed": true
   },
   "outputs": [],
   "source": [
    "data = {'TDLINX_STORE_CD':['A1234','A1234','B1234','B1234','B1234'],\n",
    "        'MASTER_PKG_SKU_CD':['1234','5678','5678','1234','9012'],\n",
    "        'L90_TY_QTY':[10,20,30,40,50]}\n",
    "df = pd.DataFrame(data)\n",
    "rate = ratings(df)\n",
    "sp_matrix = rate.sparse_matrix()"
   ]
  },
  {
   "cell_type": "code",
   "execution_count": 8,
   "metadata": {
    "collapsed": false
   },
   "outputs": [
    {
     "data": {
      "text/plain": [
       "array([[ 10.,  20.,   0.],\n",
       "       [ 30.,  40.,  50.]], dtype=float32)"
      ]
     },
     "execution_count": 8,
     "metadata": {},
     "output_type": "execute_result"
    }
   ],
   "source": [
    "\n",
    "'''\n",
    "        '1234' '5678' '9012'\n",
    "A1234     10     20     0\n",
    "B1234     30     40     50\n",
    "\n",
    "'''"
   ]
  },
  {
   "cell_type": "code",
   "execution_count": 18,
   "metadata": {
    "collapsed": false
   },
   "outputs": [
    {
     "data": {
      "text/plain": [
       "array([[ True,  True,  True],\n",
       "       [ True,  True,  True]], dtype=bool)"
      ]
     },
     "execution_count": 18,
     "metadata": {},
     "output_type": "execute_result"
    }
   ],
   "source": [
    "sp_matrix.toarray() == np.array([[ 10.,  20.,   0.],[ 40.,  30.,  50.]])"
   ]
  },
  {
   "cell_type": "code",
   "execution_count": 17,
   "metadata": {
    "collapsed": false
   },
   "outputs": [
    {
     "data": {
      "text/plain": [
       "6"
      ]
     },
     "execution_count": 17,
     "metadata": {},
     "output_type": "execute_result"
    }
   ],
   "source": [
    "sum((sp_matrix.toarray() == np.array([[ 10.,  20.,   0.],[ 40.,  30.,  50.]])).ravel())"
   ]
  },
  {
   "cell_type": "markdown",
   "metadata": {},
   "source": [
    "# Grid Search"
   ]
  },
  {
   "cell_type": "code",
   "execution_count": 17,
   "metadata": {
    "collapsed": false,
    "scrolled": true
   },
   "outputs": [
    {
     "name": "stdout",
     "output_type": "stream",
     "text": [
      "Optimal Model: {'rmse_ave': 0.5836844473156008, 'alpha': 100, 'regularization': 0.001, 'prediction': array([[  4.11576328e-04,   6.46606654e-04,   9.21890419e-01, ...,\n",
      "          6.56313362e-04,   8.15401190e-04,   5.29482179e-04],\n",
      "       [ -5.53098788e-04,  -1.02991216e-03,   9.97110757e-01, ...,\n",
      "         -1.24742220e-04,   1.99832624e-05,  -5.33905797e-04],\n",
      "       [  6.28131475e-04,   3.77182098e-04,   9.59235813e-01, ...,\n",
      "          7.71910403e-04,   5.51667716e-04,   8.87846846e-04],\n",
      "       ..., \n",
      "       [ -7.73551483e-04,  -1.44087105e-03,   8.49740138e-01, ...,\n",
      "         -1.26856375e-03,  -1.63889029e-03,  -2.43324055e-03],\n",
      "       [  3.76353335e-03,   5.16063914e-03,   9.99758398e-01, ...,\n",
      "         -5.45700515e-03,   1.32311616e-02,  -7.38652757e-03],\n",
      "       [ -2.79404926e-04,   3.58238055e-04,   1.38091402e-01, ...,\n",
      "          2.28527405e-04,   3.50972382e-04,   3.39045486e-04]]), 'factors': 80}\n"
     ]
    }
   ],
   "source": [
    "param = {'alpha':[1,10,100],'factors': [10,20,40,80],'regularization': [0.001,0.1]}\n",
    "d_test,opt_model,pred = implicit2.grid_search(il_sparse, param,itera=30,n_threads = 3,verbose = False, test_p=0.3)"
   ]
  },
  {
   "cell_type": "markdown",
   "metadata": {},
   "source": [
    "# Recommendations"
   ]
  },
  {
   "cell_type": "code",
   "execution_count": 28,
   "metadata": {
    "collapsed": false
   },
   "outputs": [],
   "source": [
    "tdlinx = '1402413'\n",
    "scores,prod_cd,prod_dsc,df = implicit2.predict_store(pred, il_sparse,il_off_data, prod_info, tdlinx,10)"
   ]
  },
  {
   "cell_type": "code",
   "execution_count": 29,
   "metadata": {
    "collapsed": false,
    "scrolled": true
   },
   "outputs": [
    {
     "data": {
      "text/html": [
       "<div>\n",
       "<table border=\"1\" class=\"dataframe\">\n",
       "  <thead>\n",
       "    <tr style=\"text-align: right;\">\n",
       "      <th></th>\n",
       "      <th>MASTER_PKG_SKU_CD</th>\n",
       "      <th>MASTER_SKU_DSC</th>\n",
       "      <th>ACTUAL</th>\n",
       "      <th>PREDICT</th>\n",
       "    </tr>\n",
       "  </thead>\n",
       "  <tbody>\n",
       "    <tr>\n",
       "      <th>29</th>\n",
       "      <td>80013971</td>\n",
       "      <td>PACIFICO 6PK BT</td>\n",
       "      <td>1.39</td>\n",
       "      <td>1.00</td>\n",
       "    </tr>\n",
       "    <tr>\n",
       "      <th>55</th>\n",
       "      <td>80014011</td>\n",
       "      <td>VICTORIA 12PK BT</td>\n",
       "      <td>2.77</td>\n",
       "      <td>1.00</td>\n",
       "    </tr>\n",
       "    <tr>\n",
       "      <th>13</th>\n",
       "      <td>80013461</td>\n",
       "      <td>CORONA FAMILIAR 32OZ BT</td>\n",
       "      <td>2.34</td>\n",
       "      <td>1.00</td>\n",
       "    </tr>\n",
       "    <tr>\n",
       "      <th>24</th>\n",
       "      <td>80013518</td>\n",
       "      <td>MODELO ESP 12PK CAN</td>\n",
       "      <td>3.91</td>\n",
       "      <td>1.00</td>\n",
       "    </tr>\n",
       "    <tr>\n",
       "      <th>2</th>\n",
       "      <td>80013435</td>\n",
       "      <td>CORONA EX 12PK BT</td>\n",
       "      <td>3.00</td>\n",
       "      <td>1.00</td>\n",
       "    </tr>\n",
       "    <tr>\n",
       "      <th>27</th>\n",
       "      <td>80013968</td>\n",
       "      <td>CORONITA 7OZ 6PK BT</td>\n",
       "      <td>1.10</td>\n",
       "      <td>0.99</td>\n",
       "    </tr>\n",
       "    <tr>\n",
       "      <th>33</th>\n",
       "      <td>80013978</td>\n",
       "      <td>MODELO ESP 6PK BT</td>\n",
       "      <td>1.79</td>\n",
       "      <td>0.90</td>\n",
       "    </tr>\n",
       "    <tr>\n",
       "      <th>23</th>\n",
       "      <td>80013517</td>\n",
       "      <td>MODELO ESP 12PK BT</td>\n",
       "      <td>3.58</td>\n",
       "      <td>0.90</td>\n",
       "    </tr>\n",
       "    <tr>\n",
       "      <th>32</th>\n",
       "      <td>80013977</td>\n",
       "      <td>MODELO NEGRA 6PK BT</td>\n",
       "      <td>0.69</td>\n",
       "      <td>0.89</td>\n",
       "    </tr>\n",
       "    <tr>\n",
       "      <th>19</th>\n",
       "      <td>80013478</td>\n",
       "      <td>CORONA LT 6PK BT</td>\n",
       "      <td>1.39</td>\n",
       "      <td>0.86</td>\n",
       "    </tr>\n",
       "    <tr>\n",
       "      <th>40</th>\n",
       "      <td>80013986</td>\n",
       "      <td>MODELO NEGRA 12PK BT</td>\n",
       "      <td>2.20</td>\n",
       "      <td>0.80</td>\n",
       "    </tr>\n",
       "    <tr>\n",
       "      <th>10</th>\n",
       "      <td>80013457</td>\n",
       "      <td>CORONA EX 6PK BT</td>\n",
       "      <td>1.39</td>\n",
       "      <td>0.77</td>\n",
       "    </tr>\n",
       "    <tr>\n",
       "      <th>38</th>\n",
       "      <td>80013984</td>\n",
       "      <td>MODELO ESP 24PK CAN</td>\n",
       "      <td>1.79</td>\n",
       "      <td>0.76</td>\n",
       "    </tr>\n",
       "    <tr>\n",
       "      <th>67</th>\n",
       "      <td>80019746</td>\n",
       "      <td>MODELO CHELADA 24OZ CAN</td>\n",
       "      <td>1.61</td>\n",
       "      <td>0.73</td>\n",
       "    </tr>\n",
       "    <tr>\n",
       "      <th>30</th>\n",
       "      <td>80013972</td>\n",
       "      <td>PACIFICO 12PK BT</td>\n",
       "      <td>2.08</td>\n",
       "      <td>0.71</td>\n",
       "    </tr>\n",
       "    <tr>\n",
       "      <th>54</th>\n",
       "      <td>80014010</td>\n",
       "      <td>VICTORIA 6PK BT</td>\n",
       "      <td>0.69</td>\n",
       "      <td>0.68</td>\n",
       "    </tr>\n",
       "    <tr>\n",
       "      <th>26</th>\n",
       "      <td>80013522</td>\n",
       "      <td>MODELO ESP 24OZ CAN</td>\n",
       "      <td>2.08</td>\n",
       "      <td>0.65</td>\n",
       "    </tr>\n",
       "    <tr>\n",
       "      <th>14</th>\n",
       "      <td>80013464</td>\n",
       "      <td>CORONA LT 12PK BT</td>\n",
       "      <td>0.00</td>\n",
       "      <td>0.48</td>\n",
       "    </tr>\n",
       "    <tr>\n",
       "      <th>4</th>\n",
       "      <td>80013442</td>\n",
       "      <td>CORONA EX 18PK BT</td>\n",
       "      <td>2.51</td>\n",
       "      <td>0.45</td>\n",
       "    </tr>\n",
       "    <tr>\n",
       "      <th>5</th>\n",
       "      <td>80013444</td>\n",
       "      <td>CORONA EX 24OZ BT</td>\n",
       "      <td>1.39</td>\n",
       "      <td>0.42</td>\n",
       "    </tr>\n",
       "    <tr>\n",
       "      <th>28</th>\n",
       "      <td>80013970</td>\n",
       "      <td>MODELO ESP 6PK CAN</td>\n",
       "      <td>0.00</td>\n",
       "      <td>0.36</td>\n",
       "    </tr>\n",
       "    <tr>\n",
       "      <th>6</th>\n",
       "      <td>80013447</td>\n",
       "      <td>CORONA EX 24PK BT</td>\n",
       "      <td>0.00</td>\n",
       "      <td>0.26</td>\n",
       "    </tr>\n",
       "    <tr>\n",
       "      <th>25</th>\n",
       "      <td>80013520</td>\n",
       "      <td>MODELO ESP 18PK CAN</td>\n",
       "      <td>0.00</td>\n",
       "      <td>0.22</td>\n",
       "    </tr>\n",
       "    <tr>\n",
       "      <th>49</th>\n",
       "      <td>80014002</td>\n",
       "      <td>CORONITA 7OZ 24PK BT</td>\n",
       "      <td>0.00</td>\n",
       "      <td>0.14</td>\n",
       "    </tr>\n",
       "    <tr>\n",
       "      <th>3</th>\n",
       "      <td>80013437</td>\n",
       "      <td>CORONA EX 12PK CAN</td>\n",
       "      <td>0.00</td>\n",
       "      <td>0.11</td>\n",
       "    </tr>\n",
       "    <tr>\n",
       "      <th>83</th>\n",
       "      <td>80056172</td>\n",
       "      <td>VICTORIA 32OZ BT</td>\n",
       "      <td>0.00</td>\n",
       "      <td>0.09</td>\n",
       "    </tr>\n",
       "    <tr>\n",
       "      <th>45</th>\n",
       "      <td>80013993</td>\n",
       "      <td>MODELO ESP 24OZ BT</td>\n",
       "      <td>0.00</td>\n",
       "      <td>0.08</td>\n",
       "    </tr>\n",
       "    <tr>\n",
       "      <th>64</th>\n",
       "      <td>80014026</td>\n",
       "      <td>MODELO ESP 24PK BT</td>\n",
       "      <td>0.00</td>\n",
       "      <td>0.04</td>\n",
       "    </tr>\n",
       "    <tr>\n",
       "      <th>57</th>\n",
       "      <td>80014014</td>\n",
       "      <td>CORONA EX 24OZ CAN LSE</td>\n",
       "      <td>0.00</td>\n",
       "      <td>0.02</td>\n",
       "    </tr>\n",
       "    <tr>\n",
       "      <th>72</th>\n",
       "      <td>80027631</td>\n",
       "      <td>TOCAYO HOM WT ALE 6PK CAN</td>\n",
       "      <td>0.00</td>\n",
       "      <td>0.01</td>\n",
       "    </tr>\n",
       "    <tr>\n",
       "      <th>...</th>\n",
       "      <td>...</td>\n",
       "      <td>...</td>\n",
       "      <td>...</td>\n",
       "      <td>...</td>\n",
       "    </tr>\n",
       "    <tr>\n",
       "      <th>39</th>\n",
       "      <td>80013985</td>\n",
       "      <td>PACIFICO 24PK BT</td>\n",
       "      <td>0.00</td>\n",
       "      <td>-0.00</td>\n",
       "    </tr>\n",
       "    <tr>\n",
       "      <th>41</th>\n",
       "      <td>80013987</td>\n",
       "      <td>NaN</td>\n",
       "      <td>0.00</td>\n",
       "      <td>-0.00</td>\n",
       "    </tr>\n",
       "    <tr>\n",
       "      <th>42</th>\n",
       "      <td>80013988</td>\n",
       "      <td>NaN</td>\n",
       "      <td>0.00</td>\n",
       "      <td>-0.00</td>\n",
       "    </tr>\n",
       "    <tr>\n",
       "      <th>43</th>\n",
       "      <td>80013991</td>\n",
       "      <td>CORONA LIGHT 1/4 BL KEG</td>\n",
       "      <td>0.00</td>\n",
       "      <td>-0.00</td>\n",
       "    </tr>\n",
       "    <tr>\n",
       "      <th>47</th>\n",
       "      <td>80013995</td>\n",
       "      <td>PACIFICO 1/4 BL KEG</td>\n",
       "      <td>0.00</td>\n",
       "      <td>-0.00</td>\n",
       "    </tr>\n",
       "    <tr>\n",
       "      <th>48</th>\n",
       "      <td>80014001</td>\n",
       "      <td>PACIFICO 24OZ BT</td>\n",
       "      <td>0.00</td>\n",
       "      <td>-0.00</td>\n",
       "    </tr>\n",
       "    <tr>\n",
       "      <th>9</th>\n",
       "      <td>80013456</td>\n",
       "      <td>CORONA EX 3.2 6PK BT</td>\n",
       "      <td>0.00</td>\n",
       "      <td>-0.00</td>\n",
       "    </tr>\n",
       "    <tr>\n",
       "      <th>1</th>\n",
       "      <td>80012704</td>\n",
       "      <td>VICTORIA 1/2 BL KEG</td>\n",
       "      <td>0.00</td>\n",
       "      <td>-0.00</td>\n",
       "    </tr>\n",
       "    <tr>\n",
       "      <th>8</th>\n",
       "      <td>80013455</td>\n",
       "      <td>CORONA EX 3.2 18PK BT</td>\n",
       "      <td>0.00</td>\n",
       "      <td>-0.00</td>\n",
       "    </tr>\n",
       "    <tr>\n",
       "      <th>7</th>\n",
       "      <td>80013450</td>\n",
       "      <td>CORONA EX 3.2 12PK BT</td>\n",
       "      <td>0.00</td>\n",
       "      <td>-0.00</td>\n",
       "    </tr>\n",
       "    <tr>\n",
       "      <th>52</th>\n",
       "      <td>80014008</td>\n",
       "      <td>PACIFICO 1/2 BL KEG</td>\n",
       "      <td>0.00</td>\n",
       "      <td>-0.00</td>\n",
       "    </tr>\n",
       "    <tr>\n",
       "      <th>53</th>\n",
       "      <td>80014009</td>\n",
       "      <td>VICTORIA 1/4 BL KEG</td>\n",
       "      <td>0.00</td>\n",
       "      <td>-0.00</td>\n",
       "    </tr>\n",
       "    <tr>\n",
       "      <th>20</th>\n",
       "      <td>80013485</td>\n",
       "      <td>NaN</td>\n",
       "      <td>0.00</td>\n",
       "      <td>-0.00</td>\n",
       "    </tr>\n",
       "    <tr>\n",
       "      <th>44</th>\n",
       "      <td>80013992</td>\n",
       "      <td>CORONA LIGHT 1/2 BL KEG</td>\n",
       "      <td>0.00</td>\n",
       "      <td>-0.01</td>\n",
       "    </tr>\n",
       "    <tr>\n",
       "      <th>90</th>\n",
       "      <td>80058838</td>\n",
       "      <td>MODELO CHELADA 24OZ 3PK CAN</td>\n",
       "      <td>0.00</td>\n",
       "      <td>-0.01</td>\n",
       "    </tr>\n",
       "    <tr>\n",
       "      <th>12</th>\n",
       "      <td>80013460</td>\n",
       "      <td>CORONA EX 24PK CAN</td>\n",
       "      <td>0.00</td>\n",
       "      <td>-0.01</td>\n",
       "    </tr>\n",
       "    <tr>\n",
       "      <th>11</th>\n",
       "      <td>80013458</td>\n",
       "      <td>CORONA EX 6PK CAN</td>\n",
       "      <td>0.00</td>\n",
       "      <td>-0.01</td>\n",
       "    </tr>\n",
       "    <tr>\n",
       "      <th>21</th>\n",
       "      <td>80013515</td>\n",
       "      <td>MODELO ESP 1/2 BL</td>\n",
       "      <td>0.00</td>\n",
       "      <td>-0.01</td>\n",
       "    </tr>\n",
       "    <tr>\n",
       "      <th>17</th>\n",
       "      <td>80013473</td>\n",
       "      <td>CORONA LT 24PK BT</td>\n",
       "      <td>0.00</td>\n",
       "      <td>-0.02</td>\n",
       "    </tr>\n",
       "    <tr>\n",
       "      <th>58</th>\n",
       "      <td>80014016</td>\n",
       "      <td>CORONA EX 16OZ 6PK CAN</td>\n",
       "      <td>0.00</td>\n",
       "      <td>-0.02</td>\n",
       "    </tr>\n",
       "    <tr>\n",
       "      <th>70</th>\n",
       "      <td>80026873</td>\n",
       "      <td>CORONA EX 18PK CAN</td>\n",
       "      <td>0.00</td>\n",
       "      <td>-0.02</td>\n",
       "    </tr>\n",
       "    <tr>\n",
       "      <th>66</th>\n",
       "      <td>80018933</td>\n",
       "      <td>MODELO ESP 16OZ 4PK CAN</td>\n",
       "      <td>0.00</td>\n",
       "      <td>-0.02</td>\n",
       "    </tr>\n",
       "    <tr>\n",
       "      <th>51</th>\n",
       "      <td>80014007</td>\n",
       "      <td>PACIFICO BALLENA 32OZ BT</td>\n",
       "      <td>0.00</td>\n",
       "      <td>-0.02</td>\n",
       "    </tr>\n",
       "    <tr>\n",
       "      <th>78</th>\n",
       "      <td>80031989</td>\n",
       "      <td>PACIFICO 24OZ CAN LSE</td>\n",
       "      <td>0.00</td>\n",
       "      <td>-0.02</td>\n",
       "    </tr>\n",
       "    <tr>\n",
       "      <th>69</th>\n",
       "      <td>80024732</td>\n",
       "      <td>VICTORIA 12PK CAN</td>\n",
       "      <td>0.00</td>\n",
       "      <td>-0.04</td>\n",
       "    </tr>\n",
       "    <tr>\n",
       "      <th>46</th>\n",
       "      <td>80013994</td>\n",
       "      <td>VICTORIA 24PK BT</td>\n",
       "      <td>0.00</td>\n",
       "      <td>-0.05</td>\n",
       "    </tr>\n",
       "    <tr>\n",
       "      <th>50</th>\n",
       "      <td>80014006</td>\n",
       "      <td>MODELO ESP 24OZ 3PK CAN</td>\n",
       "      <td>0.00</td>\n",
       "      <td>-0.05</td>\n",
       "    </tr>\n",
       "    <tr>\n",
       "      <th>16</th>\n",
       "      <td>80013469</td>\n",
       "      <td>CORONA LT 18PK BT</td>\n",
       "      <td>0.00</td>\n",
       "      <td>-0.06</td>\n",
       "    </tr>\n",
       "    <tr>\n",
       "      <th>15</th>\n",
       "      <td>80013466</td>\n",
       "      <td>CORONA LT 12PK CAN</td>\n",
       "      <td>0.00</td>\n",
       "      <td>-0.06</td>\n",
       "    </tr>\n",
       "    <tr>\n",
       "      <th>82</th>\n",
       "      <td>80032234</td>\n",
       "      <td>NaN</td>\n",
       "      <td>0.00</td>\n",
       "      <td>-0.10</td>\n",
       "    </tr>\n",
       "  </tbody>\n",
       "</table>\n",
       "<p>98 rows × 4 columns</p>\n",
       "</div>"
      ],
      "text/plain": [
       "    MASTER_PKG_SKU_CD               MASTER_SKU_DSC  ACTUAL  PREDICT\n",
       "29           80013971              PACIFICO 6PK BT    1.39     1.00\n",
       "55           80014011             VICTORIA 12PK BT    2.77     1.00\n",
       "13           80013461      CORONA FAMILIAR 32OZ BT    2.34     1.00\n",
       "24           80013518          MODELO ESP 12PK CAN    3.91     1.00\n",
       "2            80013435            CORONA EX 12PK BT    3.00     1.00\n",
       "27           80013968          CORONITA 7OZ 6PK BT    1.10     0.99\n",
       "33           80013978            MODELO ESP 6PK BT    1.79     0.90\n",
       "23           80013517           MODELO ESP 12PK BT    3.58     0.90\n",
       "32           80013977          MODELO NEGRA 6PK BT    0.69     0.89\n",
       "19           80013478             CORONA LT 6PK BT    1.39     0.86\n",
       "40           80013986         MODELO NEGRA 12PK BT    2.20     0.80\n",
       "10           80013457             CORONA EX 6PK BT    1.39     0.77\n",
       "38           80013984          MODELO ESP 24PK CAN    1.79     0.76\n",
       "67           80019746      MODELO CHELADA 24OZ CAN    1.61     0.73\n",
       "30           80013972             PACIFICO 12PK BT    2.08     0.71\n",
       "54           80014010              VICTORIA 6PK BT    0.69     0.68\n",
       "26           80013522          MODELO ESP 24OZ CAN    2.08     0.65\n",
       "14           80013464            CORONA LT 12PK BT    0.00     0.48\n",
       "4            80013442            CORONA EX 18PK BT    2.51     0.45\n",
       "5            80013444            CORONA EX 24OZ BT    1.39     0.42\n",
       "28           80013970           MODELO ESP 6PK CAN    0.00     0.36\n",
       "6            80013447            CORONA EX 24PK BT    0.00     0.26\n",
       "25           80013520          MODELO ESP 18PK CAN    0.00     0.22\n",
       "49           80014002         CORONITA 7OZ 24PK BT    0.00     0.14\n",
       "3            80013437           CORONA EX 12PK CAN    0.00     0.11\n",
       "83           80056172             VICTORIA 32OZ BT    0.00     0.09\n",
       "45           80013993           MODELO ESP 24OZ BT    0.00     0.08\n",
       "64           80014026           MODELO ESP 24PK BT    0.00     0.04\n",
       "57           80014014       CORONA EX 24OZ CAN LSE    0.00     0.02\n",
       "72           80027631    TOCAYO HOM WT ALE 6PK CAN    0.00     0.01\n",
       "..                ...                          ...     ...      ...\n",
       "39           80013985             PACIFICO 24PK BT    0.00    -0.00\n",
       "41           80013987                          NaN    0.00    -0.00\n",
       "42           80013988                          NaN    0.00    -0.00\n",
       "43           80013991      CORONA LIGHT 1/4 BL KEG    0.00    -0.00\n",
       "47           80013995          PACIFICO 1/4 BL KEG    0.00    -0.00\n",
       "48           80014001             PACIFICO 24OZ BT    0.00    -0.00\n",
       "9            80013456         CORONA EX 3.2 6PK BT    0.00    -0.00\n",
       "1            80012704          VICTORIA 1/2 BL KEG    0.00    -0.00\n",
       "8            80013455        CORONA EX 3.2 18PK BT    0.00    -0.00\n",
       "7            80013450        CORONA EX 3.2 12PK BT    0.00    -0.00\n",
       "52           80014008          PACIFICO 1/2 BL KEG    0.00    -0.00\n",
       "53           80014009          VICTORIA 1/4 BL KEG    0.00    -0.00\n",
       "20           80013485                          NaN    0.00    -0.00\n",
       "44           80013992      CORONA LIGHT 1/2 BL KEG    0.00    -0.01\n",
       "90           80058838  MODELO CHELADA 24OZ 3PK CAN    0.00    -0.01\n",
       "12           80013460           CORONA EX 24PK CAN    0.00    -0.01\n",
       "11           80013458            CORONA EX 6PK CAN    0.00    -0.01\n",
       "21           80013515            MODELO ESP 1/2 BL    0.00    -0.01\n",
       "17           80013473            CORONA LT 24PK BT    0.00    -0.02\n",
       "58           80014016       CORONA EX 16OZ 6PK CAN    0.00    -0.02\n",
       "70           80026873           CORONA EX 18PK CAN    0.00    -0.02\n",
       "66           80018933      MODELO ESP 16OZ 4PK CAN    0.00    -0.02\n",
       "51           80014007     PACIFICO BALLENA 32OZ BT    0.00    -0.02\n",
       "78           80031989        PACIFICO 24OZ CAN LSE    0.00    -0.02\n",
       "69           80024732            VICTORIA 12PK CAN    0.00    -0.04\n",
       "46           80013994             VICTORIA 24PK BT    0.00    -0.05\n",
       "50           80014006      MODELO ESP 24OZ 3PK CAN    0.00    -0.05\n",
       "16           80013469            CORONA LT 18PK BT    0.00    -0.06\n",
       "15           80013466           CORONA LT 12PK CAN    0.00    -0.06\n",
       "82           80032234                          NaN    0.00    -0.10\n",
       "\n",
       "[98 rows x 4 columns]"
      ]
     },
     "execution_count": 29,
     "metadata": {},
     "output_type": "execute_result"
    }
   ],
   "source": [
    "df"
   ]
  },
  {
   "cell_type": "code",
   "execution_count": 30,
   "metadata": {
    "collapsed": false
   },
   "outputs": [
    {
     "data": {
      "text/plain": [
       "['CORONA LT 12PK BT',\n",
       " 'MODELO ESP 6PK CAN',\n",
       " 'CORONA EX 24PK BT',\n",
       " 'MODELO ESP 18PK CAN',\n",
       " 'CORONITA 7OZ 24PK BT',\n",
       " 'CORONA EX 12PK CAN',\n",
       " 'VICTORIA 32OZ BT',\n",
       " 'MODELO ESP 24OZ BT',\n",
       " 'MODELO ESP 24PK BT',\n",
       " 'CORONA EX 24OZ CAN LSE']"
      ]
     },
     "execution_count": 30,
     "metadata": {},
     "output_type": "execute_result"
    }
   ],
   "source": [
    "prod_dsc"
   ]
  }
 ],
 "metadata": {
  "anaconda-cloud": {},
  "kernelspec": {
   "display_name": "Python 2",
   "language": "python",
   "name": "python2"
  },
  "language_info": {
   "codemirror_mode": {
    "name": "ipython",
    "version": 2
   },
   "file_extension": ".py",
   "mimetype": "text/x-python",
   "name": "python",
   "nbconvert_exporter": "python",
   "pygments_lexer": "ipython2",
   "version": "2.7.11"
  }
 },
 "nbformat": 4,
 "nbformat_minor": 1
}
